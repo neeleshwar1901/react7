{
  "nbformat": 4,
  "nbformat_minor": 0,
  "metadata": {
    "colab": {
      "provenance": []
    },
    "kernelspec": {
      "name": "python3",
      "display_name": "Python 3"
    },
    "language_info": {
      "name": "python"
    }
  },
  "cells": [
    {
      "cell_type": "markdown",
      "source": [
        "Q1. What is Redux and why is it used in web application development?"
      ],
      "metadata": {
        "id": "C-QUVw8AVjwS"
      }
    },
    {
      "cell_type": "markdown",
      "source": [
        "Redux provides a single source of truth by storing the entire state of an application in a single JavaScript object called the store. This state can only be changed by dispatching actions that describe what happened, and those actions are processed by reducers, pure functions that specify how the state updates based on actions.\n",
        "\n",
        "purpose of redux:\n",
        "\n",
        "Centralized State Management:\n",
        "Instead of managing state separately in multiple components, Redux consolidates the state into a single store, making it easier to track and manage.\n",
        "\n",
        "Predictability and Debugging:\n",
        "Since the state changes are done via pure reducers and explicit actions, the flow of data becomes predictable and easier to debug. Redux DevTools allow developers to track state changes over time.\n",
        "\n",
        "Ease of Testing:\n",
        "Reducers are pure functions, making them simple to test.\n",
        "\n",
        "Better State Sharing:\n",
        "Useful in complex applications where many components need access to the same state, avoiding prop drilling.\n",
        "\n",
        "Middleware Support:\n",
        "Redux supports middleware (like redux-thunk, redux-saga) that helps handle asynchronous operations such as API calls cleanly."
      ],
      "metadata": {
        "id": "ttBz0WgBVnQr"
      }
    },
    {
      "cell_type": "markdown",
      "source": [
        "Q2.Explain the core concepts of Redux"
      ],
      "metadata": {
        "id": "BHHX6BGeV7Qn"
      }
    },
    {
      "cell_type": "markdown",
      "source": [
        "1.Store\n",
        "The store is a single JavaScript object that holds the entire state of the application.\n",
        "\n",
        "It is the single source of truth, meaning all your app’s data lives here.\n",
        "\n",
        "You create a store using createStore() (from Redux) and pass your root reducer to it.\n",
        "\n",
        "The store provides methods like .getState(), .dispatch(), and .subscribe().\n",
        "\n",
        "2.Actions\n",
        "Actions are plain JavaScript objects that describe what happened in the application.\n",
        "\n",
        "Every action must have a type property (usually a string constant) that describes the action.\n",
        "\n",
        "Actions can also carry some data called payload.\n",
        "\n",
        "Actions are sent to the store using dispatch().\n",
        "\n",
        "3.Reducers\n",
        "Reducers are pure functions that specify how the state changes in response to an action.\n",
        "\n",
        "They take the current state and an action as arguments and return a new state.\n",
        "\n",
        "Reducers must never mutate the state directly; they return a new copy of the state object.\n",
        "\n",
        "Typically, you write multiple reducers for different parts of the state and combine them.\n",
        "\n",
        "4.Dispatch\n",
        "dispatch() is a method on the store that sends actions to the reducer.\n",
        "\n",
        "When you dispatch an action, Redux runs the reducers, computes the new state, and updates the store.\n",
        "\n",
        "5.Selectors\n",
        "Selectors are functions that extract and return specific parts of the state.\n",
        "\n",
        "They help components get the exact data they need from the store.\n",
        "\n",
        "Using selectors improves maintainability and performance."
      ],
      "metadata": {
        "id": "elM5Bu6dWBSY"
      }
    },
    {
      "cell_type": "markdown",
      "source": [
        "Q3.What is Redux Thunk and how does it facilitate asynchronous logic in Redux?"
      ],
      "metadata": {
        "id": "rv5EBAF-WZBJ"
      }
    },
    {
      "cell_type": "markdown",
      "source": [
        "Redux Thunk is a popular middleware for Redux that allows you to write action creators that return functions instead of plain action objects. This is particularly useful for handling asynchronous logic (like API calls) within Redux.\n",
        "\n",
        "It allows delaying the dispatch of an action or dispatching actions conditionally.\n",
        "\n",
        "For example, you can make an API call inside the thunk function, and once the data is fetched, dispatch a success or failure action.\n",
        "\n",
        "This way, async logic stays in the Redux flow without needing side-effect libraries outside Redux.\n",
        "\n",
        "\n",
        "Here, fetchUser returns a function (thunk).\n",
        "\n",
        "Redux Thunk middleware intercepts it and calls it with dispatch and getState.\n",
        "\n",
        "Inside, async API call happens, and based on result, dispatches success or failure actions."
      ],
      "metadata": {
        "id": "4zNwxXJXWe2J"
      }
    },
    {
      "cell_type": "markdown",
      "source": [
        "Q4.What are the benefits of using the Redux Toolkit?"
      ],
      "metadata": {
        "id": "VVoBWbdKWwTV"
      }
    },
    {
      "cell_type": "markdown",
      "source": [
        "Redux Toolkit (RTK) is the official, recommended way to write Redux logic, designed to simplify Redux development and improve productivity. Here are the key benefits of using Redux Toolkit:\n",
        "\n",
        "\n",
        "1.Simplifies Redux Setup\n",
        "\n",
        "RTK provides a standard way to configure the Redux store with good defaults.\n",
        "\n",
        "It removes boilerplate by combining multiple Redux utilities like createStore, applyMiddleware, and DevTools setup into a single function: configureStore().\n",
        "\n",
        "2.Reduces Boilerplate\n",
        "RTK introduces functions like createSlice() that generate action creators and reducers together, drastically reducing repetitive code.\n",
        "\n",
        "You don’t have to write action types, action creators, and reducers separately.\n",
        "\n",
        "3.Immutable State Updates Made Easy\n",
        "RTK uses the Immer library internally, so you can write “mutating” code in reducers (e.g., state.value = 5), but it safely produces immutable updates.\n",
        "\n",
        "This makes reducer code more concise and easier to understand.\n",
        "\n",
        "4.Built-in Support for Async Logic\n",
        "RTK provides createAsyncThunk() to handle async actions like API calls with automatic action type generation and lifecycle handling (pending, fulfilled, rejected).\n",
        "\n",
        "This simplifies writing and handling async logic compared to manually writing thunk action creators."
      ],
      "metadata": {
        "id": "P56mYMRhW2VP"
      }
    },
    {
      "cell_type": "markdown",
      "source": [
        "Q5.Perform a simple state update with the  Redux toolkit, Given an initial state with a user object: { name:\n",
        "'Guest', isLoggedIn: false }, write a reducer function that updates the isLoggedIn property to true when a\n",
        "\"LOGIN\" action is dispatched."
      ],
      "metadata": {
        "id": "x-E3fbw7XKqv"
      }
    },
    {
      "cell_type": "code",
      "source": [
        "import { createSlice } from '@reduxjs/toolkit';\n",
        "\n",
        "const userSlice = createSlice({\n",
        "  name: 'user',\n",
        "  initialState: {\n",
        "    name: 'Guest',\n",
        "    isLoggedIn: false,\n",
        "  },\n",
        "  reducers: {\n",
        "    LOGIN: (state) => {\n",
        "      state.isLoggedIn = true;  // Immer allows this mutable syntax\n",
        "    },\n",
        "  },\n",
        "});\n",
        "\n",
        "export const { LOGIN } = userSlice.actions;\n",
        "export default userSlice.reducer;\n"
      ],
      "metadata": {
        "id": "fMijS2uBXVv2"
      },
      "execution_count": null,
      "outputs": []
    }
  ]
}